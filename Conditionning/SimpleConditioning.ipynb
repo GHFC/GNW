{
 "cells": [
  {
   "cell_type": "markdown",
   "metadata": {},
   "source": [
    "# 1. Install libraries"
   ]
  },
  {
   "cell_type": "code",
   "execution_count": 72,
   "metadata": {},
   "outputs": [],
   "source": [
    "import matplotlib.pyplot as plt\n",
    "import numpy as np\n",
    "import numpy.random as random\n",
    "from brian2 import *\n",
    "prefs.codegen.target = 'numpy'  # use the Python fallback (cython bugs for some reason)"
   ]
  },
  {
   "cell_type": "markdown",
   "metadata": {},
   "source": [
    "# 2. Define parameters"
   ]
  },
  {
   "cell_type": "code",
   "execution_count": 73,
   "metadata": {},
   "outputs": [],
   "source": [
    "start_scope()"
   ]
  },
  {
   "cell_type": "markdown",
   "metadata": {},
   "source": [
    "## 2.1 Memory preferences"
   ]
  },
  {
   "cell_type": "code",
   "execution_count": 74,
   "metadata": {},
   "outputs": [],
   "source": [
    "memory_intensive = False\n",
    "\n",
    "if memory_intensive:\n",
    "    numberNeuronGroups = 100\n",
    "    neuronGroupSize = 50\n",
    "    simulation_duration = 1000 * second\n",
    "else:\n",
    "    numberNeuronGroups = 10\n",
    "    neuronGroupSize = 10\n",
    "    simulation_duration = 30 * second"
   ]
  },
  {
   "cell_type": "markdown",
   "metadata": {},
   "source": [
    "## 2.2 Neuron parameters"
   ]
  },
  {
   "cell_type": "code",
   "execution_count": 75,
   "metadata": {},
   "outputs": [],
   "source": [
    "taum = 1*ms # neuron equation time constant\n",
    "Ee = 0*mV # excitatory synapse equilibrium potential\n",
    "vt = -54*mV # threshold potential\n",
    "vr = -70*mV # resting potential\n",
    "El = -70*mV # leak channel potential\n",
    "taue = 0.5*ms # synaptic conductance time constant"
   ]
  },
  {
   "cell_type": "markdown",
   "metadata": {},
   "source": [
    "## 2.3 STDP parameters"
   ]
  },
  {
   "cell_type": "code",
   "execution_count": 76,
   "metadata": {},
   "outputs": [],
   "source": [
    "taupre = 20*ms\n",
    "taupost = taupre\n",
    "gmax = .01\n",
    "dApre = .01\n",
    "dApost = -dApre * taupre / taupost * 1.05\n",
    "dApost *= gmax\n",
    "dApre *= gmax"
   ]
  },
  {
   "cell_type": "markdown",
   "metadata": {},
   "source": [
    "## 2.4 Dopamine signaling parameters"
   ]
  },
  {
   "cell_type": "code",
   "execution_count": 77,
   "metadata": {},
   "outputs": [],
   "source": [
    "tauc = 1000*ms # eligibility time constant\n",
    "taud = 200*ms # dopamine release time constant\n",
    "taus = 1*ms # synaptic weight constant \n",
    "epsilon_dopa = 5e-3 # amount of dopamine released on reward"
   ]
  },
  {
   "cell_type": "markdown",
   "metadata": {},
   "source": [
    "# 3. Build a network"
   ]
  },
  {
   "cell_type": "markdown",
   "metadata": {},
   "source": [
    "Initialize the network:"
   ]
  },
  {
   "cell_type": "code",
   "execution_count": 78,
   "metadata": {},
   "outputs": [],
   "source": [
    "network = Network()"
   ]
  },
  {
   "cell_type": "markdown",
   "metadata": {},
   "source": [
    "## 3.1 Main neuron group\n",
    "### 3.1.1 Neurons"
   ]
  },
  {
   "cell_type": "code",
   "execution_count": 79,
   "metadata": {},
   "outputs": [],
   "source": [
    "neurons = NeuronGroup(numberNeuronGroups*neuronGroupSize,  '''dv/dt = (ge * (Ee-vr) + El - v) / taum : volt\n",
    "                                      dge/dt = -ge / taue : 1''',\n",
    "                      threshold='v>vt', reset='v = vr',\n",
    "                      method='linear')\n",
    "neurons.v = vr\n",
    "network.add(neurons)\n"
   ]
  },
  {
   "cell_type": "markdown",
   "metadata": {},
   "source": [
    "### 3.1.2 STDP Synapses"
   ]
  },
  {
   "cell_type": "code",
   "execution_count": 80,
   "metadata": {},
   "outputs": [],
   "source": [
    "epsilon = 0.1 # sparseness of synaptic connections\n",
    "synapse_stdp = Synapses(neurons, neurons,\n",
    "                   model='''mode: 1\n",
    "                         dc/dt = -c / tauc : 1 (clock-driven)\n",
    "                         dd/dt = -d / taud : 1 (clock-driven)\n",
    "                         ds/dt = mode * c * d / taus : 1 (clock-driven)\n",
    "                         dApre/dt = -Apre / taupre : 1 (event-driven)\n",
    "                         dApost/dt = -Apost / taupost : 1 (event-driven)''',\n",
    "                   on_pre='''ge += s\n",
    "                          Apre += dApre\n",
    "                          c = clip(c + mode * Apost, -gmax, gmax)\n",
    "                          s = clip(s + (1-mode) * Apost, -gmax, gmax)\n",
    "                          ''',\n",
    "                   on_post='''Apost += dApost\n",
    "                          c = clip(c + mode * Apre, -gmax, gmax)\n",
    "                          s = clip(s + (1-mode) * Apre, -gmax, gmax)\n",
    "                          ''',\n",
    "                     method='''euler'''\n",
    "                   )"
   ]
  },
  {
   "cell_type": "markdown",
   "metadata": {},
   "source": [
    "Connectivity: make sure a neuron does not form a synapse with itself"
   ]
  },
  {
   "cell_type": "code",
   "execution_count": 81,
   "metadata": {},
   "outputs": [],
   "source": [
    "synapse_stdp.connect(condition = 'i!=j', p=epsilon)"
   ]
  },
  {
   "cell_type": "markdown",
   "metadata": {},
   "source": [
    "Initialize synapse parameters"
   ]
  },
  {
   "cell_type": "code",
   "execution_count": 82,
   "metadata": {},
   "outputs": [],
   "source": [
    "synapse_stdp.mode = 1\n",
    "synapse_stdp.s = 1e-9\n",
    "synapse_stdp.c = 1e-9\n",
    "synapse_stdp.d = 0"
   ]
  },
  {
   "cell_type": "markdown",
   "metadata": {},
   "source": [
    "Add synapse to network"
   ]
  },
  {
   "cell_type": "code",
   "execution_count": 83,
   "metadata": {},
   "outputs": [],
   "source": [
    "network.add(synapse_stdp)"
   ]
  },
  {
   "cell_type": "markdown",
   "metadata": {},
   "source": [
    "## 3.2 Input: stimuli and noise\n",
    "### 3.2.1 Stimuli"
   ]
  },
  {
   "cell_type": "code",
   "execution_count": 84,
   "metadata": {},
   "outputs": [],
   "source": [
    "numberStimulations = int((1000*simulation_duration/second - 100)/200) # stimulus every ~200 seconds\n",
    "input_times = np.array([100 + 200*i + np.random.randint(-50, 50) for i in range(numberStimulations)])*ms # define when the stimuli happen \n",
    "input_indices = np.array([np.random.randint(0, numberNeuronGroups) for i in range(numberStimulations)]) # define which group each pulse targets\n",
    "groupedStimuli = SpikeGeneratorGroup(numberNeuronGroups,input_indices, input_times)\n",
    "network.add(groupedStimuli)"
   ]
  },
  {
   "cell_type": "markdown",
   "metadata": {},
   "source": [
    "### 3.2.2 Synapse between stimuli and main neuron group"
   ]
  },
  {
   "cell_type": "code",
   "execution_count": 85,
   "metadata": {},
   "outputs": [],
   "source": [
    "inputSynapse = Synapses(groupedStimuli, neurons, model='''s : volt''', on_pre='v += s') # every time an input fires the corresponding neurons are depolarized beyond threshold\n",
    "for k in range(numberNeuronGroups):\n",
    "       inputSynapse.connect(i=[k], j=list(range(neuronGroupSize*k + 1, neuronGroupSize*(k+1)))) # input i is connected to all the neurons in the group Si\n",
    "inputSynapse.s = 100*mV # enough to guarantee a postsynaptic spike\n",
    "network.add(inputSynapse)"
   ]
  },
  {
   "cell_type": "markdown",
   "metadata": {},
   "source": [
    "### 3.2.3 Noise"
   ]
  },
  {
   "cell_type": "code",
   "execution_count": 86,
   "metadata": {},
   "outputs": [],
   "source": [
    "noise_rate = 2*Hz\n",
    "noise = PoissonGroup(numberNeuronGroups*neuronGroupSize, noise_rate)\n",
    "network.add(noise)"
   ]
  },
  {
   "cell_type": "markdown",
   "metadata": {},
   "source": [
    "### 3.2.4 Synapse between stimuli and main neuron group"
   ]
  },
  {
   "cell_type": "code",
   "execution_count": 87,
   "metadata": {},
   "outputs": [],
   "source": [
    "noiseSynapse = Synapses(noise, neurons, model='''s : volt''', on_pre='v += s')\n",
    "noiseSynapse.connect(condition = 'i==j', p = 1.)\n",
    "noiseSynapse.s = 100*mV # enough to guarantee a postsynaptic spike\n",
    "network.add(noiseSynapse)"
   ]
  },
  {
   "cell_type": "markdown",
   "metadata": {},
   "source": [
    "## 3.3 Dopamine signalling"
   ]
  },
  {
   "cell_type": "code",
   "execution_count": 88,
   "metadata": {},
   "outputs": [],
   "source": [
    "dopamine = NeuronGroup(1, '''v : volt''', threshold='v>1*volt', reset='v=0*volt')\n",
    "network.add(dopamine)"
   ]
  },
  {
   "cell_type": "markdown",
   "metadata": {},
   "source": [
    "Monitor when dopamine is released:"
   ]
  },
  {
   "cell_type": "code",
   "execution_count": 89,
   "metadata": {},
   "outputs": [],
   "source": [
    "dopamine_monitor = SpikeMonitor(dopamine)\n",
    "network.add(dopamine_monitor)"
   ]
  },
  {
   "cell_type": "markdown",
   "metadata": {},
   "source": [
    "### 3.3.1 Synapse ordering dopamine release when the conditioning stimulus occurs"
   ]
  },
  {
   "cell_type": "code",
   "execution_count": 90,
   "metadata": {},
   "outputs": [],
   "source": [
    "conditioning = Synapses(groupedStimuli, dopamine, on_pre='''v_post += 2*volt''', method='exact') # 2*volt is bigger than the dopamine neuron's 1*volt threshold\n",
    "conditioning.connect(i  = 0, j = 0)\n",
    "network.add(conditioning)"
   ]
  },
  {
   "cell_type": "markdown",
   "metadata": {},
   "source": [
    "### 3.3.2 Synapse accounting for the effect of dopamine on plasticity"
   ]
  },
  {
   "cell_type": "code",
   "execution_count": 91,
   "metadata": {},
   "outputs": [],
   "source": [
    "reward = Synapses(dopamine, synapse_stdp, on_pre='''d_post += epsilon_dopa''', method='exact')\n",
    "reward.connect(p=1.) # every synapse is affected by dopamine\n",
    "reward.delay='100*ms' # dopamine reaches the synapse 100ms after the conditioning stimulus\n",
    "network.add(reward)\n",
    "\n"
   ]
  },
  {
   "cell_type": "markdown",
   "metadata": {},
   "source": [
    "# 4. Simulation\n",
    "## 4.1 Launch simulation"
   ]
  },
  {
   "cell_type": "code",
   "execution_count": 92,
   "metadata": {},
   "outputs": [
    {
     "name": "stdout",
     "output_type": "stream",
     "text": [
      "Starting simulation at t=0. s for a duration of 30. s\n",
      "3.8245 (12%) simulated in 10s, estimated 1m 8s remaining.\n",
      "7.595999999999999 (25%) simulated in 20s, estimated 59s remaining.\n",
      "11.1704 (37%) simulated in 30s, estimated 51s remaining.\n",
      "14.7238 (49%) simulated in 40s, estimated 42s remaining.\n",
      "18.177400000000002 (60%) simulated in 50s, estimated 33s remaining.\n",
      "21.3668 (71%) simulated in 1m 0s, estimated 24s remaining.\n",
      "24.868000000000002 (82%) simulated in 1m 10s, estimated 14s remaining.\n",
      "29.142000000000003 (97%) simulated in 1m 20s, estimated 2s remaining.\n",
      "30.0 (100%) simulated in 1m 22s\n"
     ]
    }
   ],
   "source": [
    "# Classical STDP\n",
    "# synapse_stdp.mode = 0\n",
    "\n",
    "# Dopamine modulated STDP\n",
    "synapse_stdp.mode = 1\n",
    "neuronSpikes = SpikeMonitor(neurons, record=True)\n",
    "network.add(neuronSpikes)\n",
    "network.run(simulation_duration, report='text')"
   ]
  },
  {
   "cell_type": "markdown",
   "metadata": {},
   "source": [
    "## 4.2 Display results"
   ]
  },
  {
   "cell_type": "code",
   "execution_count": 93,
   "metadata": {},
   "outputs": [
    {
     "data": {
      "image/png": "[encoded data removed]",
      "text/plain": [
       "<Figure size 648x1296 with 2 Axes>"
      ]
     },
     "metadata": {
      "needs_background": "light"
     },
     "output_type": "display_data"
    }
   ],
   "source": [
    "figure(figsize=(9,18))\n",
    "subplot(211)\n",
    "rewardTimes = [t for t in dopamine_monitor.t/ms if t < 5000]\n",
    "if len(rewardTimes) > 0:\n",
    "   plt.axvline(x = rewardTimes[0], linestyle = '-', color = 'orange', label='dopamine release')\n",
    "for rewardTime in rewardTimes[1:]:\n",
    "   plt.axvline(x = rewardTime, linestyle = '-', color = 'orange')\n",
    "spikeTimes = [t for t in neuronSpikes.t/ms if t < 5000]\n",
    "spikeIndex = neuronSpikes.i[:len(spikeTimes)]\n",
    "plt.plot(spikeTimes, spikeIndex, '.', markersize=3, label='neuron spike')\n",
    "ylabel('Neuron Index')\n",
    "xlabel('Time (ms)')\n",
    "plt.legend()\n",
    "subplot(212)\n",
    "rewardTimes = [t for t in dopamine_monitor.t/ms if t > simulation_duration*1000/second-5000]\n",
    "if len(rewardTimes) > 0:\n",
    "   plt.axvline(x = rewardTimes[0], linestyle = '-', color = 'orange', label='dopamine release')\n",
    "for rewardTime in rewardTimes[1:]:\n",
    "   plt.axvline(x = rewardTime, linestyle = '-', color = 'orange')\n",
    "spikeTimes = [t for t in neuronSpikes.t/ms if t > simulation_duration*1000/second-5000]\n",
    "spikeIndex = neuronSpikes.i[-len(spikeTimes):]\n",
    "plt.plot(spikeTimes, spikeIndex, '.', markersize=3, label='neuron spike')\n",
    "ylabel('Neuron Index')\n",
    "xlabel('Time (ms)')\n",
    "plt.legend()\n",
    "show()\n"
   ]
  }
 ],
 "metadata": {
  "kernelspec": {
   "display_name": "Python 3",
   "language": "python",
   "name": "python3"
  },
  "language_info": {
   "codemirror_mode": {
    "name": "ipython",
    "version": 3
   },
   "file_extension": ".py",
   "mimetype": "text/x-python",
   "name": "python",
   "nbconvert_exporter": "python",
   "pygments_lexer": "ipython3",
   "version": "3.6.5"
  }
 },
 "nbformat": 4,
 "nbformat_minor": 2
}
