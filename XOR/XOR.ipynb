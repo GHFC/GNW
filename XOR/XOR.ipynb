{
 "cells": [
  {
   "cell_type": "code",
   "execution_count": 24,
   "metadata": {},
   "outputs": [],
   "source": [
    "from brian2 import *\n",
    "import numpy as np\n",
    "\n",
    "simtime = 30*second # Simulation time"
   ]
  },
  {
   "cell_type": "code",
   "execution_count": 38,
   "metadata": {},
   "outputs": [
    {
     "name": "stdout",
     "output_type": "stream",
     "text": [
      "Starting simulation at t=0. s for a duration of 1. s\n",
      "1.0 (100%) simulated in 2s\n",
      "Starting simulation at t=1. s for a duration of 1. s\n",
      "1.0 (100%) simulated in < 1s\n",
      "Starting simulation at t=2. s for a duration of 1. s\n",
      "1.0 (100%) simulated in < 1s\n",
      "Starting simulation at t=3. s for a duration of 1. s\n",
      "1.0 (100%) simulated in < 1s\n",
      "Starting simulation at t=4. s for a duration of 1. s\n",
      "1.0 (100%) simulated in < 1s\n",
      "Starting simulation at t=5. s for a duration of 1. s\n",
      "1.0 (100%) simulated in < 1s\n",
      "Starting simulation at t=6. s for a duration of 1. s\n",
      "1.0 (100%) simulated in < 1s\n",
      "Starting simulation at t=7. s for a duration of 1. s\n",
      "1.0 (100%) simulated in < 1s\n",
      "Starting simulation at t=8. s for a duration of 1. s\n",
      "1.0 (100%) simulated in < 1s\n",
      "Starting simulation at t=9. s for a duration of 1. s\n",
      "1.0 (100%) simulated in < 1s\n",
      "Starting simulation at t=10. s for a duration of 1. s\n",
      "1.0 (100%) simulated in < 1s\n",
      "Starting simulation at t=11. s for a duration of 1. s\n",
      "1.0 (100%) simulated in < 1s\n",
      "Starting simulation at t=12. s for a duration of 1. s\n",
      "1.0 (100%) simulated in < 1s\n",
      "Starting simulation at t=13. s for a duration of 1. s\n",
      "1.0 (100%) simulated in < 1s\n",
      "Starting simulation at t=14. s for a duration of 1. s\n",
      "1.0 (100%) simulated in < 1s\n",
      "Starting simulation at t=15. s for a duration of 1. s\n",
      "1.0 (100%) simulated in < 1s\n",
      "Starting simulation at t=16. s for a duration of 1. s\n",
      "1.0 (100%) simulated in < 1s\n",
      "Starting simulation at t=17. s for a duration of 1. s\n",
      "1.0 (100%) simulated in < 1s\n",
      "Starting simulation at t=18. s for a duration of 1. s\n",
      "1.0 (100%) simulated in < 1s\n",
      "Starting simulation at t=19. s for a duration of 1. s\n",
      "1.0 (100%) simulated in < 1s\n",
      "Starting simulation at t=20. s for a duration of 1. s\n",
      "1.0 (100%) simulated in < 1s\n",
      "Starting simulation at t=21. s for a duration of 1. s\n",
      "1.0 (100%) simulated in < 1s\n",
      "Starting simulation at t=22. s for a duration of 1. s\n",
      "1.0 (100%) simulated in < 1s\n",
      "Starting simulation at t=23. s for a duration of 1. s\n",
      "1.0 (100%) simulated in < 1s\n",
      "Starting simulation at t=24. s for a duration of 1. s\n",
      "1.0 (100%) simulated in < 1s\n",
      "Starting simulation at t=25. s for a duration of 1. s\n",
      "1.0 (100%) simulated in < 1s\n",
      "Starting simulation at t=26. s for a duration of 1. s\n",
      "1.0 (100%) simulated in < 1s\n",
      "Starting simulation at t=27. s for a duration of 1. s\n",
      "1.0 (100%) simulated in < 1s\n",
      "Starting simulation at t=28. s for a duration of 1. s\n",
      "1.0 (100%) simulated in < 1s\n",
      "Starting simulation at t=29. s for a duration of 1. s\n",
      "1.0 (100%) simulated in < 1s\n"
     ]
    }
   ],
   "source": [
    "alpha=0.9\n",
    "start_scope()\n",
    "network = Network()\n",
    "input1 = NeuronGroup(1, 'rates: Hz', threshold='rand()<rates*dt')\n",
    "input2 = NeuronGroup(1, 'rates: Hz', threshold='rand()<rates*dt')\n",
    "result = NeuronGroup(1, 'rates: Hz', threshold='rand()<rates*dt')\n",
    "M1 = SpikeMonitor(input1)\n",
    "M2 = SpikeMonitor(input2)\n",
    "O = SpikeMonitor(result)\n",
    "network.add(input1)\n",
    "network.add(input2)\n",
    "network.add(result)\n",
    "network.add(M1)\n",
    "network.add(M2)\n",
    "network.add(O)\n",
    "\n",
    "for stim in range(int(simtime/second)):\n",
    "    value1 = np.random.randint(low=0, high=2)\n",
    "    value2 = np.random.randint(low=0, high=2)\n",
    "    input1.rates = 100 * Hz * (alpha * value1 + (1-alpha) * np.random.rand())\n",
    "    input2.rates = 100 * Hz * (alpha * value2 + (1-alpha) * np.random.rand())    \n",
    "    result.rates = 100 * Hz * (value1 != value2)\n",
    "    network.run(1*second, report='text')"
   ]
  },
  {
   "cell_type": "code",
   "execution_count": 39,
   "metadata": {},
   "outputs": [
    {
     "data": {
      "image/png": "[encoded data removed]",
      "text/plain": [
       "<matplotlib.figure.Figure at 0x11c6bec90>"
      ]
     },
     "metadata": {},
     "output_type": "display_data"
    }
   ],
   "source": [
    "plt.figure(figsize=[20, 1])\n",
    "plot(M1.t/ms, M1.i, '.r', markersize=1)\n",
    "plot(M2.t/ms, 1+M2.i, '.g', markersize=1)\n",
    "plot(O.t/ms, 2+O.i, '.k', markersize=1)\n",
    "xlim(0, 1000 * simtime/second)\n",
    "show()"
   ]
  },
  {
   "cell_type": "raw",
   "metadata": {},
   "source": [
    "# https://groups.google.com/forum/#!searchin/briansupport/reward$20synapse%7Csort:date/briansupport/fpdETPg9vBY/SkBXmoXHCAAJ\n",
    "\n",
    "# https://brian2.readthedocs.io/en/2.0rc/examples/synapses.STDP.html\n",
    "\n",
    "inp = NeuronGroup(1, '...',threshold='...', reset='...') \n",
    "reward_trigger = NeuronGroup(1, '...',threshold='...', reset='...') \n",
    "out = NeuronGroup(1, '...', threshold='...', reset='...') \n",
    "\n",
    "syn = Synapses(inp, out, 'w : 1', on_pre='v += w') \n",
    "syn.connect() \n",
    "\n",
    "reward_modulation = Synapses(reward_trigger, syn, on_pre='w += 0.1') \n",
    "reward.connect() "
   ]
  },
  {
   "cell_type": "code",
   "execution_count": null,
   "metadata": {},
   "outputs": [],
   "source": []
  }
 ],
 "metadata": {
  "kernelspec": {
   "display_name": "Python 2",
   "language": "python",
   "name": "python2"
  },
  "language_info": {
   "codemirror_mode": {
    "name": "ipython",
    "version": 2
   },
   "file_extension": ".py",
   "mimetype": "text/x-python",
   "name": "python",
   "nbconvert_exporter": "python",
   "pygments_lexer": "ipython2",
   "version": "2.7.14"
  }
 },
 "nbformat": 4,
 "nbformat_minor": 2
}
